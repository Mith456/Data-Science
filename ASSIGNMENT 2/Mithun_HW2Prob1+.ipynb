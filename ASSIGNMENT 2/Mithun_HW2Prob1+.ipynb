{
 "cells": [
  {
   "cell_type": "markdown",
   "metadata": {},
   "source": [
    "## Name: Mithun Muralidhar\n",
    "## ASU ID: 1211309824"
   ]
  },
  {
   "cell_type": "markdown",
   "metadata": {},
   "source": [
    "## Ridge Regression Optimization\n",
    "\n",
    "We generate two highly correlated features X1 and X2 from a multli-variate normal distribution, we would like to implement the Ridge regression."
   ]
  },
  {
   "cell_type": "code",
   "execution_count": 1,
   "metadata": {
    "collapsed": true
   },
   "outputs": [],
   "source": [
    "import numpy as np\n",
    "import matplotlib.pyplot as plt\n",
    "%matplotlib inline  \n",
    "# Please try to use only these packages for computation\n",
    "\n",
    "n = 1000\n",
    "p = 2\n",
    "#X1 = np.linspace(0,1,n)\n",
    "#X2 = X1 + np.random.normal\n",
    "mean = np.zeros((p))\n",
    "val = 0.99\n",
    "cov = np.ones((p,p))*val\n",
    "cov = cov + np.eye(p)*(1-val)\n",
    "\n",
    "np.random.seed(10)\n",
    "X = np.random.multivariate_normal(mean, cov, n)\n",
    "theta_true = np.ones((p,1))\n",
    "\n"
   ]
  },
  {
   "cell_type": "code",
   "execution_count": 2,
   "metadata": {},
   "outputs": [
    {
     "data": {
      "text/plain": [
       "array([[-1.37883123, -1.2776755 ],\n",
       "       [ 1.54212478,  1.54093912],\n",
       "       [-0.56886295, -0.67069843],\n",
       "       ..., \n",
       "       [-0.56168953, -0.47213548],\n",
       "       [-1.17606098, -1.12341923],\n",
       "       [-0.73164837, -0.48977895]])"
      ]
     },
     "execution_count": 2,
     "metadata": {},
     "output_type": "execute_result"
    }
   ],
   "source": [
    "X"
   ]
  },
  {
   "cell_type": "code",
   "execution_count": 3,
   "metadata": {},
   "outputs": [
    {
     "name": "stdout",
     "output_type": "stream",
     "text": [
      "[[ 0.99  0.99]\n",
      " [ 0.99  0.99]]\n",
      "[[ 1.  1.]\n",
      " [ 1.  1.]]\n"
     ]
    }
   ],
   "source": [
    "n=1000\n",
    "p=2\n",
    "val=0.99\n",
    "cov=np.ones((p,p))*val\n",
    "print (cov)\n",
    "print(np.ones((p,p)))"
   ]
  },
  {
   "cell_type": "markdown",
   "metadata": {},
   "source": [
    "We first generate data based on $y=X\\theta+e$, where $e$ follows $N(0,\\delta^2)$, with $\\delta=0.5$"
   ]
  },
  {
   "cell_type": "code",
   "execution_count": 4,
   "metadata": {
    "collapsed": true
   },
   "outputs": [],
   "source": [
    "delta=0.5\n",
    "e=np.random.normal(0,delta,(n,1))\n",
    "y=np.dot(X,theta_true)+e"
   ]
  },
  {
   "cell_type": "markdown",
   "metadata": {},
   "source": [
    "### Part 1: Analytical solution\n",
    "(1) Let's compute the Least Square analytical solution directly by solving $X^T X \\theta = X^T y$"
   ]
  },
  {
   "cell_type": "code",
   "execution_count": 5,
   "metadata": {},
   "outputs": [
    {
     "name": "stdout",
     "output_type": "stream",
     "text": [
      "[[ 1.10034069]\n",
      " [ 0.89299444]]\n"
     ]
    }
   ],
   "source": [
    "lambda1 = 20\n",
    "beta_OLS_est=np.dot(np.linalg.inv(np.dot(X.T,X)), np.dot(X.T,y))\n",
    "print(beta_OLS_est)"
   ]
  },
  {
   "cell_type": "markdown",
   "metadata": {},
   "source": [
    "(2) Let's compute the Ridge Regression analytical solution directly by solving $(X^T X +\\lambda_1 I) \\theta = X^T y$"
   ]
  },
  {
   "cell_type": "code",
   "execution_count": 6,
   "metadata": {},
   "outputs": [
    {
     "name": "stdout",
     "output_type": "stream",
     "text": [
      "[[ 1.0053259 ]\n",
      " [ 0.95681108]]\n"
     ]
    }
   ],
   "source": [
    "lambda1=30\n",
    "I=np.eye(2)\n",
    "beta_ridge_est=np.dot(np.linalg.inv(np.dot(X.T,X)+np.dot(lambda1,I)), np.dot(X.T,y))\n",
    "print(beta_ridge_est)"
   ]
  },
  {
   "cell_type": "markdown",
   "metadata": {},
   "source": [
    "### Part 2: Gradient Descent\n",
    "\n",
    "(a) Let's use Gradient Descent to solve the solution, first, we would like to define the loss Function. \n",
    "We can define the `computeCost(X,y,lambda1,beta)` by\n",
    "$\\|y-X\\beta\\|^2+\\lambda_1 * \\|\\beta\\|^2$\n",
    "and its gradient in `computeGrad(X, y, lambda1,beta)`"
   ]
  },
  {
   "cell_type": "code",
   "execution_count": 7,
   "metadata": {
    "collapsed": true
   },
   "outputs": [],
   "source": [
    "#Estimating cost function\n",
    "def computeCost(X, y,lambda1, beta):\n",
    "    yhat=np.matmul(X,beta)\n",
    "    diff=y-yhat\n",
    "    vec_norm=np.linalg.norm(diff)\n",
    "    beta_norm=np.linalg.norm(beta)\n",
    "    beta_norm_sq=beta_norm**2\n",
    "    cost=vec_norm**2+ np.dot(lambda1,beta_norm_sq)\n",
    "    return cost\n",
    "\n",
    "\n",
    "#Estimating the Gradient function    \n",
    "def computeGrad(X, y,lambda1,beta):\n",
    "    yhat=np.matmul(X,beta)\n",
    "    diff=y-yhat\n",
    "    gradient=-2*np.dot(X.T, diff)+ 2*lambda1*beta\n",
    "    return gradient\n",
    "\n"
   ]
  },
  {
   "cell_type": "markdown",
   "metadata": {},
   "source": [
    "(b) Let's use Gradient Descent to update parameter until convergence, please try different stepsize to see the Convergence performance. "
   ]
  },
  {
   "cell_type": "code",
   "execution_count": 8,
   "metadata": {},
   "outputs": [
    {
     "name": "stdout",
     "output_type": "stream",
     "text": [
      "Gradient descent with  100 iterations. alpha=0.00010 and initial beta=[-1.00000,-1.50000]\n",
      "\n",
      "Iteration 0 --- beta:[ -1.00000, -1.50000] --- Cost: 19409.36672 \n",
      "Iteration 20 --- beta:[ 1.19783, 0.76408] --- Cost: 313.73328 \n",
      "Iteration 40 --- beta:[ 1.16990, 0.79228] --- Cost: 312.94722 \n",
      "Iteration 60 --- beta:[ 1.14593, 0.81625] --- Cost: 312.37357 \n",
      "Iteration 80 --- beta:[ 1.12544, 0.83672] --- Cost: 311.95489 \n",
      "\n",
      " final beta: [ 1.10794, 0.85422] \n",
      "\n",
      "Gradient descent with  100 iterations. alpha=0.00020 and initial beta=[-1.00000,-1.50000]\n",
      "\n",
      "Iteration 0 --- beta:[ -1.00000, -1.50000] --- Cost: 19409.36672 \n",
      "Iteration 20 --- beta:[ 1.16970, 0.79248] --- Cost: 312.94192 \n",
      "Iteration 40 --- beta:[ 1.12514, 0.83702] --- Cost: 311.94925 \n",
      "Iteration 60 --- beta:[ 1.09267, 0.86949] --- Cost: 311.42179 \n",
      "Iteration 80 --- beta:[ 1.06899, 0.89316] --- Cost: 311.14152 \n",
      "\n",
      " final beta: [ 1.05173, 0.91041] \n",
      "\n",
      "Gradient descent with  100 iterations. alpha=0.00030 and initial beta=[-1.00000,-1.50000]\n",
      "\n",
      "Iteration 0 --- beta:[ -1.00000, -1.50000] --- Cost: 19409.36672 \n",
      "Iteration 20 --- beta:[ 1.14540, 0.81677] --- Cost: 312.36193 \n",
      "Iteration 40 --- beta:[ 1.09234, 0.86982] --- Cost: 311.41727 \n",
      "Iteration 60 --- beta:[ 1.05937, 0.90278] --- Cost: 311.05276 \n",
      "Iteration 80 --- beta:[ 1.03890, 0.92325] --- Cost: 310.91211 \n",
      "\n",
      " final beta: [ 1.02618, 0.93596] \n",
      "\n",
      "Gradient descent with  100 iterations. alpha=0.00040 and initial beta=[-1.00000,-1.50000]\n",
      "\n",
      "Iteration 0 --- beta:[ -1.00000, -1.50000] --- Cost: 19409.36672 \n",
      "Iteration 20 --- beta:[ 1.12453, 0.83762] --- Cost: 311.93788 \n",
      "Iteration 40 --- beta:[ 1.06835, 0.89380] --- Cost: 311.13513 \n",
      "Iteration 60 --- beta:[ 1.03864, 0.92350] --- Cost: 310.91077 \n",
      "Iteration 80 --- beta:[ 1.02294, 0.93920] --- Cost: 310.84806 \n",
      "\n",
      " final beta: [ 1.01464, 0.94750] \n",
      "\n",
      "Gradient descent with  100 iterations. alpha=0.00050 and initial beta=[-1.00000,-1.50000]\n",
      "\n",
      "Iteration 0 --- beta:[ -1.00000, -1.50000] --- Cost: 19409.36672 \n",
      "Iteration 20 --- beta:[ 0.70386, 0.45262] --- Cost: 934.12165 \n",
      "Iteration 40 --- beta:[ 0.97813, 0.83855] --- Cost: 331.27986 \n",
      "Iteration 60 --- beta:[ 1.01265, 0.92322] --- Cost: 311.51814 \n",
      "Iteration 80 --- beta:[ 1.01215, 0.94525] --- Cost: 310.85193 \n",
      "\n",
      " final beta: [ 1.00903, 0.95225] \n",
      "\n",
      "Gradient descent with  100 iterations. alpha=0.00051 and initial beta=[-1.00000,-1.50000]\n",
      "\n",
      "Iteration 0 --- beta:[ -1.00000, -1.50000] --- Cost: 19409.36672 \n",
      "Iteration 20 --- beta:[ 0.19162, -0.05646] --- Cost: 3512.66020 \n",
      "Iteration 40 --- beta:[ 0.67541, 0.53868] --- Cost: 847.60895 \n",
      "Iteration 60 --- beta:[ 0.87168, 0.78418] --- Cost: 400.81593 \n",
      "Iteration 80 --- beta:[ 0.95124, 0.88549] --- Cost: 325.91108 \n",
      "\n",
      " final beta: [ 0.98346, 0.92733] \n",
      "\n",
      "Gradient descent with  100 iterations. alpha=0.00052 and initial beta=[-1.00000,-1.50000]\n",
      "\n",
      "Iteration 0 --- beta:[ -1.00000, -1.50000] --- Cost: 19409.36672 \n",
      "Iteration 20 --- beta:[ -0.90223, -1.14736] --- Cost: 15745.65406 \n",
      "Iteration 40 --- beta:[ -0.75519, -0.88944] --- Cost: 12786.28682 \n",
      "Iteration 60 --- beta:[ -0.59727, -0.68328] --- Cost: 10394.61714 \n",
      "Iteration 80 --- beta:[ -0.44410, -0.50911] --- Cost: 8461.50886 \n",
      "\n",
      " final beta: [ -0.30153, -0.35739] \n",
      "\n"
     ]
    }
   ],
   "source": [
    "def gradientDescent(X, y, beta,alpha, numIterations):\n",
    "# Implement your gradient descient algorithm here\n",
    "    beta_values=[]\n",
    "    loss_values=[]\n",
    "    for i in range(0, numIterations):\n",
    "        cost=computeCost(X,y,lambda1,beta)\n",
    "        loss_values.append(cost)\n",
    "        if i%20==0:\n",
    "            print(\"Iteration %d --- beta:[ %0.5f, %0.5f] --- Cost: %0.5f \" % (i, beta[0],beta[1],cost))\n",
    "        gradient = computeGrad(X, y,lambda1, beta)\n",
    "        beta = beta-alpha * gradient\n",
    "        beta_values.append(beta)\n",
    "    print(\"\\n final beta: [ %0.5f, %0.5f] \\n\"%(beta.flatten()[0],beta.flatten()[1]))\n",
    "    return beta,beta_values,loss_values\n",
    "numIterations=100\n",
    "alpha_1=0.0001\n",
    "init_beta=np.array([[-1],[-1.5]])\n",
    "print(\"Gradient descent with %4d iterations. alpha=%6.5f and initial beta=[%0.5f,%0.5f]\\n\"%(numIterations,alpha_1,init_beta.flatten()[0],init_beta.flatten()[1]))\n",
    "beta,beta_values,loss_values_1=gradientDescent(X, y, init_beta,alpha_1, numIterations)\n",
    "alpha_2=0.0002\n",
    "print(\"Gradient descent with %4d iterations. alpha=%6.5f and initial beta=[%0.5f,%0.5f]\\n\"%(numIterations,alpha_2,init_beta.flatten()[0],init_beta.flatten()[1]))\n",
    "beta,beta_values,loss_values_2=gradientDescent(X, y, init_beta,alpha_2, numIterations)\n",
    "alpha_3=0.0003\n",
    "print(\"Gradient descent with %4d iterations. alpha=%6.5f and initial beta=[%0.5f,%0.5f]\\n\"%(numIterations,alpha_3,init_beta.flatten()[0],init_beta.flatten()[1]))\n",
    "beta,beta_values,loss_values_3=gradientDescent(X, y, init_beta,alpha_3, numIterations)\n",
    "alpha_4=0.0004\n",
    "print(\"Gradient descent with %4d iterations. alpha=%6.5f and initial beta=[%0.5f,%0.5f]\\n\"%(numIterations,alpha_4,init_beta.flatten()[0],init_beta.flatten()[1]))\n",
    "beta,beta_values,loss_values_4=gradientDescent(X, y, init_beta,alpha_4, numIterations)\n",
    "alpha_5=0.0005\n",
    "print(\"Gradient descent with %4d iterations. alpha=%6.5f and initial beta=[%0.5f,%0.5f]\\n\"%(numIterations,alpha_5,init_beta.flatten()[0],init_beta.flatten()[1]))\n",
    "beta,beta_values,loss_values_5=gradientDescent(X, y, init_beta,alpha_5, numIterations)\n",
    "alpha_6=0.00051\n",
    "print(\"Gradient descent with %4d iterations. alpha=%6.5f and initial beta=[%0.5f,%0.5f]\\n\"%(numIterations,alpha_6,init_beta.flatten()[0],init_beta.flatten()[1]))\n",
    "beta,beta_values,loss_values_6=gradientDescent(X, y, init_beta,alpha_6, numIterations)\n",
    "alpha_7=0.00052\n",
    "print(\"Gradient descent with %4d iterations. alpha=%6.5f and initial beta=[%0.5f,%0.5f]\\n\"%(numIterations,alpha_7,init_beta.flatten()[0],init_beta.flatten()[1]))\n",
    "beta,beta_values,loss_values_7=gradientDescent(X, y, init_beta,alpha_7, numIterations)\n",
    "\n",
    "\n"
   ]
  },
  {
   "cell_type": "markdown",
   "metadata": {},
   "source": [
    "(c) Normally, it is good to visualize the loss function over time, please plot the loss (cost) function for theta in each iteration. "
   ]
  },
  {
   "cell_type": "code",
   "execution_count": 9,
   "metadata": {},
   "outputs": [
    {
     "data": {
      "text/plain": [
       "<matplotlib.legend.Legend at 0x2c34f36fe80>"
      ]
     },
     "execution_count": 9,
     "metadata": {},
     "output_type": "execute_result"
    },
    {
     "data": {
      "image/png": "[encoded data removed]",
      "text/plain": [
       "<matplotlib.figure.Figure at 0x2c34ddae518>"
      ]
     },
     "metadata": {},
     "output_type": "display_data"
    }
   ],
   "source": [
    "plt.plot(loss_values_1, label=r'$\\alpha=$'+str(alpha_1))\n",
    "plt.plot(loss_values_2, label=r'$\\alpha=$'+str(alpha_2))\n",
    "plt.plot(loss_values_3, label=r'$\\alpha=$'+str(alpha_3))\n",
    "plt.plot(loss_values_4, label=r'$\\alpha=$'+str(alpha_4))\n",
    "plt.plot(loss_values_5, label=r'$\\alpha=$'+str(alpha_5))\n",
    "plt.plot(loss_values_6, label=r'$\\alpha=$'+str(alpha_6))\n",
    "plt.plot(loss_values_7, label=r'$\\alpha=$'+str(alpha_7))\n",
    "plt.gca().set_ylabel('loss')\n",
    "plt.gca().set_xlabel('iteration')\n",
    "plt.gca().set_title('Loss function for different step sizes')\n",
    "plt.legend()\n"
   ]
  }
 ],
 "metadata": {
  "anaconda-cloud": {},
  "kernelspec": {
   "display_name": "Python 3",
   "language": "python",
   "name": "python3"
  },
  "language_info": {
   "codemirror_mode": {
    "name": "ipython",
    "version": 3
   },
   "file_extension": ".py",
   "mimetype": "text/x-python",
   "name": "python",
   "nbconvert_exporter": "python",
   "pygments_lexer": "ipython3",
   "version": "3.6.3"
  }
 },
 "nbformat": 4,
 "nbformat_minor": 1
}
